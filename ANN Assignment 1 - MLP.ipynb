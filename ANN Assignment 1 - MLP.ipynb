{
 "cells": [
  {
   "cell_type": "markdown",
   "id": "76b13f2c-775e-4274-9593-47d1c7f72fc1",
   "metadata": {},
   "source": [
    "# Artificial Neural Network Assignment 1 - Multilayer Perceptron (MLP)"
   ]
  },
  {
   "cell_type": "markdown",
   "id": "651e7421-89d7-4527-bfce-dc33195da37d",
   "metadata": {},
   "source": [
    "NAME: DAVID ADESHINA ARUNGBEMI\n",
    "\n",
    "ID NUMBER: 191203012\n",
    "\n",
    "DEPARTMENT: COMPUTER ENGINEERING"
   ]
  },
  {
   "cell_type": "markdown",
   "id": "44ed5f6b-489a-4dcc-a6aa-134384a2f7dc",
   "metadata": {},
   "source": [
    "## Import Libraries and Load Data"
   ]
  },
  {
   "cell_type": "code",
   "execution_count": 1,
   "id": "5a16e5dd-57f8-4f16-8d05-f76726fe3b82",
   "metadata": {},
   "outputs": [],
   "source": [
    "import pandas as pd\n",
    "import numpy as np\n",
    "import matplotlib.pyplot as plt"
   ]
  },
  {
   "cell_type": "code",
   "execution_count": 2,
   "id": "98cc29dc-f3c1-41f6-ad4f-f2789830d7f3",
   "metadata": {},
   "outputs": [],
   "source": [
    "DATA = pd.read_csv(\"IRIS.csv\")"
   ]
  },
  {
   "cell_type": "code",
   "execution_count": 3,
   "id": "49ce179c-0a7a-463d-9efc-f29d5ed29bb5",
   "metadata": {},
   "outputs": [
    {
     "data": {
      "text/html": [
       "<div>\n",
       "<style scoped>\n",
       "    .dataframe tbody tr th:only-of-type {\n",
       "        vertical-align: middle;\n",
       "    }\n",
       "\n",
       "    .dataframe tbody tr th {\n",
       "        vertical-align: top;\n",
       "    }\n",
       "\n",
       "    .dataframe thead th {\n",
       "        text-align: right;\n",
       "    }\n",
       "</style>\n",
       "<table border=\"1\" class=\"dataframe\">\n",
       "  <thead>\n",
       "    <tr style=\"text-align: right;\">\n",
       "      <th></th>\n",
       "      <th>sepal_length</th>\n",
       "      <th>sepal_width</th>\n",
       "      <th>petal_length</th>\n",
       "      <th>petal_width</th>\n",
       "      <th>species</th>\n",
       "    </tr>\n",
       "  </thead>\n",
       "  <tbody>\n",
       "    <tr>\n",
       "      <th>0</th>\n",
       "      <td>5.1</td>\n",
       "      <td>3.5</td>\n",
       "      <td>1.4</td>\n",
       "      <td>0.2</td>\n",
       "      <td>Iris-setosa</td>\n",
       "    </tr>\n",
       "    <tr>\n",
       "      <th>1</th>\n",
       "      <td>4.9</td>\n",
       "      <td>3.0</td>\n",
       "      <td>1.4</td>\n",
       "      <td>0.2</td>\n",
       "      <td>Iris-setosa</td>\n",
       "    </tr>\n",
       "    <tr>\n",
       "      <th>2</th>\n",
       "      <td>4.7</td>\n",
       "      <td>3.2</td>\n",
       "      <td>1.3</td>\n",
       "      <td>0.2</td>\n",
       "      <td>Iris-setosa</td>\n",
       "    </tr>\n",
       "    <tr>\n",
       "      <th>3</th>\n",
       "      <td>4.6</td>\n",
       "      <td>3.1</td>\n",
       "      <td>1.5</td>\n",
       "      <td>0.2</td>\n",
       "      <td>Iris-setosa</td>\n",
       "    </tr>\n",
       "    <tr>\n",
       "      <th>4</th>\n",
       "      <td>5.0</td>\n",
       "      <td>3.6</td>\n",
       "      <td>1.4</td>\n",
       "      <td>0.2</td>\n",
       "      <td>Iris-setosa</td>\n",
       "    </tr>\n",
       "  </tbody>\n",
       "</table>\n",
       "</div>"
      ],
      "text/plain": [
       "   sepal_length  sepal_width  petal_length  petal_width      species\n",
       "0           5.1          3.5           1.4          0.2  Iris-setosa\n",
       "1           4.9          3.0           1.4          0.2  Iris-setosa\n",
       "2           4.7          3.2           1.3          0.2  Iris-setosa\n",
       "3           4.6          3.1           1.5          0.2  Iris-setosa\n",
       "4           5.0          3.6           1.4          0.2  Iris-setosa"
      ]
     },
     "execution_count": 3,
     "metadata": {},
     "output_type": "execute_result"
    }
   ],
   "source": [
    "DATA.head()"
   ]
  },
  {
   "cell_type": "code",
   "execution_count": 4,
   "id": "8ccc901e-f7c3-4607-94fa-fa9c048006c2",
   "metadata": {},
   "outputs": [
    {
     "data": {
      "text/plain": [
       "array(['Iris-setosa', 'Iris-versicolor', 'Iris-virginica'], dtype=object)"
      ]
     },
     "execution_count": 4,
     "metadata": {},
     "output_type": "execute_result"
    }
   ],
   "source": [
    "#classes\n",
    "DATA[\"species\"].unique()"
   ]
  },
  {
   "cell_type": "code",
   "execution_count": 5,
   "id": "840d546a-3dc8-4fc3-a790-637e592cce03",
   "metadata": {},
   "outputs": [
    {
     "data": {
      "text/plain": [
       "Index(['sepal_length', 'sepal_width', 'petal_length', 'petal_width'], dtype='object')"
      ]
     },
     "execution_count": 5,
     "metadata": {},
     "output_type": "execute_result"
    }
   ],
   "source": [
    "# features\n",
    "DATA.columns[:-1]"
   ]
  },
  {
   "cell_type": "markdown",
   "id": "ed5c3230-9616-4d60-b3f5-cbad62414e71",
   "metadata": {},
   "source": [
    "## Preprocessing"
   ]
  },
  {
   "cell_type": "markdown",
   "id": "734dc27b-e545-45d2-b470-dd1b4d2f4bc6",
   "metadata": {},
   "source": [
    "### Label Encoding"
   ]
  },
  {
   "cell_type": "code",
   "execution_count": 6,
   "id": "c3d1e041-5aba-41b9-8336-25093a8ff5db",
   "metadata": {},
   "outputs": [],
   "source": [
    "label_encoding = {'Iris-setosa': 0, 'Iris-versicolor': 1, 'Iris-virginica': 2}\n",
    "DATA['species'] = DATA['species'].map(label_encoding)"
   ]
  },
  {
   "cell_type": "code",
   "execution_count": 7,
   "id": "4a5ff115-e245-453d-a03f-714933403716",
   "metadata": {},
   "outputs": [
    {
     "data": {
      "text/plain": [
       "array([0, 1, 2])"
      ]
     },
     "execution_count": 7,
     "metadata": {},
     "output_type": "execute_result"
    }
   ],
   "source": [
    "DATA[\"species\"].unique()"
   ]
  },
  {
   "cell_type": "markdown",
   "id": "436636f8-1244-4878-992f-1b4a6b86e782",
   "metadata": {},
   "source": [
    "### Shuffling"
   ]
  },
  {
   "cell_type": "code",
   "execution_count": 8,
   "id": "0d8b93ac-a94b-456d-9804-cae94727f5e8",
   "metadata": {},
   "outputs": [],
   "source": [
    "#SHUFFLE DATA\n",
    "DATA = DATA.sample(frac=1, random_state=32)"
   ]
  },
  {
   "cell_type": "code",
   "execution_count": 9,
   "id": "b50029db-695d-4a88-b5d3-28b3e7155752",
   "metadata": {},
   "outputs": [
    {
     "data": {
      "text/plain": [
       "150"
      ]
     },
     "execution_count": 9,
     "metadata": {},
     "output_type": "execute_result"
    }
   ],
   "source": [
    "#number of rows\n",
    "len(DATA)"
   ]
  },
  {
   "cell_type": "markdown",
   "id": "a16fa554-bce1-4f74-bdf6-0dcaa61a46dd",
   "metadata": {},
   "source": [
    "### Train-Test Split"
   ]
  },
  {
   "cell_type": "code",
   "execution_count": 10,
   "id": "11a08a90-c981-47ab-87bc-f60e3a8be7ca",
   "metadata": {},
   "outputs": [],
   "source": [
    "# SEPARATING TARGET FROM FEATURES\n",
    "X = DATA.drop(columns=\"species\")\n",
    "y = DATA[\"species\"]"
   ]
  },
  {
   "cell_type": "code",
   "execution_count": 11,
   "id": "878cdf67-dc27-471d-bf30-fbf23cb1f23f",
   "metadata": {},
   "outputs": [],
   "source": [
    "train_size = 0.7"
   ]
  },
  {
   "cell_type": "code",
   "execution_count": 12,
   "id": "29837ffa-3f27-4342-a91f-cf4294fc2801",
   "metadata": {},
   "outputs": [],
   "source": [
    "X_train = X[:int(len(X) * train_size)]\n",
    "y_train = y[:int(len(y) * train_size)]"
   ]
  },
  {
   "cell_type": "code",
   "execution_count": 13,
   "id": "48855642-1a0a-4818-a132-056e66d21371",
   "metadata": {},
   "outputs": [],
   "source": [
    "X_test = X[int(len(X) * train_size):]\n",
    "y_test = y[int(len(y) * train_size):]"
   ]
  },
  {
   "cell_type": "code",
   "execution_count": 14,
   "id": "903bab0c-dfe1-4b30-b412-f26028f1012c",
   "metadata": {},
   "outputs": [
    {
     "name": "stdout",
     "output_type": "stream",
     "text": [
      "Train size: 105\n"
     ]
    }
   ],
   "source": [
    "#length of train\n",
    "print(f'Train size: {len(X_train)}')"
   ]
  },
  {
   "cell_type": "code",
   "execution_count": 15,
   "id": "c0b42be2-06d9-4323-816e-f7657464cf45",
   "metadata": {},
   "outputs": [
    {
     "name": "stdout",
     "output_type": "stream",
     "text": [
      "Test size: 45\n"
     ]
    }
   ],
   "source": [
    "#length of test\n",
    "print(f'Test size: {len(X_test)}')"
   ]
  },
  {
   "cell_type": "markdown",
   "id": "269be41a-ae3d-4bb1-b1b9-d859be5607b7",
   "metadata": {},
   "source": [
    "### Normalisation"
   ]
  },
  {
   "cell_type": "code",
   "execution_count": 16,
   "id": "57b05171-720d-4a63-ae53-bbed0b7d70f8",
   "metadata": {},
   "outputs": [
    {
     "data": {
      "text/html": [
       "<div>\n",
       "<style scoped>\n",
       "    .dataframe tbody tr th:only-of-type {\n",
       "        vertical-align: middle;\n",
       "    }\n",
       "\n",
       "    .dataframe tbody tr th {\n",
       "        vertical-align: top;\n",
       "    }\n",
       "\n",
       "    .dataframe thead th {\n",
       "        text-align: right;\n",
       "    }\n",
       "</style>\n",
       "<table border=\"1\" class=\"dataframe\">\n",
       "  <thead>\n",
       "    <tr style=\"text-align: right;\">\n",
       "      <th></th>\n",
       "      <th>sepal_length</th>\n",
       "      <th>sepal_width</th>\n",
       "      <th>petal_length</th>\n",
       "      <th>petal_width</th>\n",
       "    </tr>\n",
       "  </thead>\n",
       "  <tbody>\n",
       "    <tr>\n",
       "      <th>55</th>\n",
       "      <td>5.7</td>\n",
       "      <td>2.8</td>\n",
       "      <td>4.5</td>\n",
       "      <td>1.3</td>\n",
       "    </tr>\n",
       "    <tr>\n",
       "      <th>22</th>\n",
       "      <td>4.6</td>\n",
       "      <td>3.6</td>\n",
       "      <td>1.0</td>\n",
       "      <td>0.2</td>\n",
       "    </tr>\n",
       "    <tr>\n",
       "      <th>26</th>\n",
       "      <td>5.0</td>\n",
       "      <td>3.4</td>\n",
       "      <td>1.6</td>\n",
       "      <td>0.4</td>\n",
       "    </tr>\n",
       "    <tr>\n",
       "      <th>56</th>\n",
       "      <td>6.3</td>\n",
       "      <td>3.3</td>\n",
       "      <td>4.7</td>\n",
       "      <td>1.6</td>\n",
       "    </tr>\n",
       "    <tr>\n",
       "      <th>134</th>\n",
       "      <td>6.1</td>\n",
       "      <td>2.6</td>\n",
       "      <td>5.6</td>\n",
       "      <td>1.4</td>\n",
       "    </tr>\n",
       "  </tbody>\n",
       "</table>\n",
       "</div>"
      ],
      "text/plain": [
       "     sepal_length  sepal_width  petal_length  petal_width\n",
       "55            5.7          2.8           4.5          1.3\n",
       "22            4.6          3.6           1.0          0.2\n",
       "26            5.0          3.4           1.6          0.4\n",
       "56            6.3          3.3           4.7          1.6\n",
       "134           6.1          2.6           5.6          1.4"
      ]
     },
     "execution_count": 16,
     "metadata": {},
     "output_type": "execute_result"
    }
   ],
   "source": [
    "#Before Normalisation\n",
    "X_train.head()"
   ]
  },
  {
   "cell_type": "code",
   "execution_count": 17,
   "id": "3487df2c-6cc1-46e3-85f7-318036056b4a",
   "metadata": {},
   "outputs": [
    {
     "data": {
      "text/html": [
       "<div>\n",
       "<style scoped>\n",
       "    .dataframe tbody tr th:only-of-type {\n",
       "        vertical-align: middle;\n",
       "    }\n",
       "\n",
       "    .dataframe tbody tr th {\n",
       "        vertical-align: top;\n",
       "    }\n",
       "\n",
       "    .dataframe thead th {\n",
       "        text-align: right;\n",
       "    }\n",
       "</style>\n",
       "<table border=\"1\" class=\"dataframe\">\n",
       "  <thead>\n",
       "    <tr style=\"text-align: right;\">\n",
       "      <th></th>\n",
       "      <th>sepal_length</th>\n",
       "      <th>sepal_width</th>\n",
       "      <th>petal_length</th>\n",
       "      <th>petal_width</th>\n",
       "    </tr>\n",
       "  </thead>\n",
       "  <tbody>\n",
       "    <tr>\n",
       "      <th>136</th>\n",
       "      <td>6.3</td>\n",
       "      <td>3.4</td>\n",
       "      <td>5.6</td>\n",
       "      <td>2.4</td>\n",
       "    </tr>\n",
       "    <tr>\n",
       "      <th>74</th>\n",
       "      <td>6.4</td>\n",
       "      <td>2.9</td>\n",
       "      <td>4.3</td>\n",
       "      <td>1.3</td>\n",
       "    </tr>\n",
       "    <tr>\n",
       "      <th>101</th>\n",
       "      <td>5.8</td>\n",
       "      <td>2.7</td>\n",
       "      <td>5.1</td>\n",
       "      <td>1.9</td>\n",
       "    </tr>\n",
       "    <tr>\n",
       "      <th>50</th>\n",
       "      <td>7.0</td>\n",
       "      <td>3.2</td>\n",
       "      <td>4.7</td>\n",
       "      <td>1.4</td>\n",
       "    </tr>\n",
       "    <tr>\n",
       "      <th>83</th>\n",
       "      <td>6.0</td>\n",
       "      <td>2.7</td>\n",
       "      <td>5.1</td>\n",
       "      <td>1.6</td>\n",
       "    </tr>\n",
       "  </tbody>\n",
       "</table>\n",
       "</div>"
      ],
      "text/plain": [
       "     sepal_length  sepal_width  petal_length  petal_width\n",
       "136           6.3          3.4           5.6          2.4\n",
       "74            6.4          2.9           4.3          1.3\n",
       "101           5.8          2.7           5.1          1.9\n",
       "50            7.0          3.2           4.7          1.4\n",
       "83            6.0          2.7           5.1          1.6"
      ]
     },
     "execution_count": 17,
     "metadata": {},
     "output_type": "execute_result"
    }
   ],
   "source": [
    "X_test.head()"
   ]
  },
  {
   "cell_type": "code",
   "execution_count": 18,
   "id": "c1baea2f-4427-40df-b80f-40a28eb1c8b5",
   "metadata": {},
   "outputs": [],
   "source": [
    "mean = []\n",
    "std = []\n",
    "def z_score(X: pd.DataFrame):\n",
    "    global mean\n",
    "    global std\n",
    "    for feature in X.columns:\n",
    "         mean.append(X[feature].mean())\n",
    "         std.append(X[feature].std())\n",
    "         X.loc[:,feature] = (X[feature] - mean[-1]) / std[-1]\n",
    "\n",
    "def apply_z_score(X: pd.DataFrame):\n",
    "    global mean\n",
    "    global std\n",
    "    count = 0\n",
    "    for feature in X.columns:\n",
    "        X.loc[:,feature] = (X[feature] - mean[count]) / std[count]\n",
    "        count += 1"
   ]
  },
  {
   "cell_type": "code",
   "execution_count": 19,
   "id": "9373f58f-2e08-4d9e-9ebd-008aa57d9be1",
   "metadata": {},
   "outputs": [],
   "source": [
    "min_x = []\n",
    "max_x = []\n",
    "\n",
    "def min_max(X: pd.DataFrame):\n",
    "    global min_x\n",
    "    global max_x\n",
    "    for feature in X.columns:\n",
    "        min_x.append(X[feature].min())\n",
    "        max_x.append(X[feature].max())\n",
    "        X.loc[:,feature] = (X[feature] - min_x[-1]) / (max_x[-1] - min_x[-1])\n",
    "\n",
    "def apply_min_max(X: pd.DataFrame):\n",
    "    global min_x\n",
    "    global max_x\n",
    "    count = 0\n",
    "    for feature in X.columns:\n",
    "        X.loc[:,feature] = (X[feature] - min_x[count]) / (max_x[count] - min_x[count])\n",
    "        count += 1"
   ]
  },
  {
   "cell_type": "code",
   "execution_count": 20,
   "id": "021ae3e4-3abb-4caa-9e47-468bfcb56b57",
   "metadata": {},
   "outputs": [],
   "source": [
    "z_score(X_train)"
   ]
  },
  {
   "cell_type": "code",
   "execution_count": 21,
   "id": "0ca2cfcf-8630-4f37-adcd-effed0f64543",
   "metadata": {},
   "outputs": [],
   "source": [
    "apply_z_score(X_test)"
   ]
  },
  {
   "cell_type": "code",
   "execution_count": 22,
   "id": "4a57c34f-552a-492b-945b-ed9b10973e79",
   "metadata": {},
   "outputs": [
    {
     "data": {
      "text/html": [
       "<div>\n",
       "<style scoped>\n",
       "    .dataframe tbody tr th:only-of-type {\n",
       "        vertical-align: middle;\n",
       "    }\n",
       "\n",
       "    .dataframe tbody tr th {\n",
       "        vertical-align: top;\n",
       "    }\n",
       "\n",
       "    .dataframe thead th {\n",
       "        text-align: right;\n",
       "    }\n",
       "</style>\n",
       "<table border=\"1\" class=\"dataframe\">\n",
       "  <thead>\n",
       "    <tr style=\"text-align: right;\">\n",
       "      <th></th>\n",
       "      <th>sepal_length</th>\n",
       "      <th>sepal_width</th>\n",
       "      <th>petal_length</th>\n",
       "      <th>petal_width</th>\n",
       "    </tr>\n",
       "  </thead>\n",
       "  <tbody>\n",
       "    <tr>\n",
       "      <th>55</th>\n",
       "      <td>-0.137961</td>\n",
       "      <td>-0.626521</td>\n",
       "      <td>0.474915</td>\n",
       "      <td>0.187549</td>\n",
       "    </tr>\n",
       "    <tr>\n",
       "      <th>22</th>\n",
       "      <td>-1.465832</td>\n",
       "      <td>1.093340</td>\n",
       "      <td>-1.449355</td>\n",
       "      <td>-1.219069</td>\n",
       "    </tr>\n",
       "    <tr>\n",
       "      <th>26</th>\n",
       "      <td>-0.982969</td>\n",
       "      <td>0.663375</td>\n",
       "      <td>-1.119480</td>\n",
       "      <td>-0.963320</td>\n",
       "    </tr>\n",
       "    <tr>\n",
       "      <th>56</th>\n",
       "      <td>0.586333</td>\n",
       "      <td>0.448392</td>\n",
       "      <td>0.584873</td>\n",
       "      <td>0.571172</td>\n",
       "    </tr>\n",
       "    <tr>\n",
       "      <th>134</th>\n",
       "      <td>0.344902</td>\n",
       "      <td>-1.056486</td>\n",
       "      <td>1.079686</td>\n",
       "      <td>0.315423</td>\n",
       "    </tr>\n",
       "  </tbody>\n",
       "</table>\n",
       "</div>"
      ],
      "text/plain": [
       "     sepal_length  sepal_width  petal_length  petal_width\n",
       "55      -0.137961    -0.626521      0.474915     0.187549\n",
       "22      -1.465832     1.093340     -1.449355    -1.219069\n",
       "26      -0.982969     0.663375     -1.119480    -0.963320\n",
       "56       0.586333     0.448392      0.584873     0.571172\n",
       "134      0.344902    -1.056486      1.079686     0.315423"
      ]
     },
     "execution_count": 22,
     "metadata": {},
     "output_type": "execute_result"
    }
   ],
   "source": [
    "# after normalisation\n",
    "X_train.head()"
   ]
  },
  {
   "cell_type": "code",
   "execution_count": 23,
   "id": "2189b995-d491-4314-8010-17f23589cb4d",
   "metadata": {},
   "outputs": [
    {
     "data": {
      "text/html": [
       "<div>\n",
       "<style scoped>\n",
       "    .dataframe tbody tr th:only-of-type {\n",
       "        vertical-align: middle;\n",
       "    }\n",
       "\n",
       "    .dataframe tbody tr th {\n",
       "        vertical-align: top;\n",
       "    }\n",
       "\n",
       "    .dataframe thead th {\n",
       "        text-align: right;\n",
       "    }\n",
       "</style>\n",
       "<table border=\"1\" class=\"dataframe\">\n",
       "  <thead>\n",
       "    <tr style=\"text-align: right;\">\n",
       "      <th></th>\n",
       "      <th>sepal_length</th>\n",
       "      <th>sepal_width</th>\n",
       "      <th>petal_length</th>\n",
       "      <th>petal_width</th>\n",
       "    </tr>\n",
       "  </thead>\n",
       "  <tbody>\n",
       "    <tr>\n",
       "      <th>136</th>\n",
       "      <td>0.586333</td>\n",
       "      <td>0.663375</td>\n",
       "      <td>1.079686</td>\n",
       "      <td>1.594167</td>\n",
       "    </tr>\n",
       "    <tr>\n",
       "      <th>74</th>\n",
       "      <td>0.707048</td>\n",
       "      <td>-0.411538</td>\n",
       "      <td>0.364957</td>\n",
       "      <td>0.187549</td>\n",
       "    </tr>\n",
       "    <tr>\n",
       "      <th>101</th>\n",
       "      <td>-0.017245</td>\n",
       "      <td>-0.841503</td>\n",
       "      <td>0.804790</td>\n",
       "      <td>0.954795</td>\n",
       "    </tr>\n",
       "    <tr>\n",
       "      <th>50</th>\n",
       "      <td>1.431341</td>\n",
       "      <td>0.233410</td>\n",
       "      <td>0.584873</td>\n",
       "      <td>0.315423</td>\n",
       "    </tr>\n",
       "    <tr>\n",
       "      <th>83</th>\n",
       "      <td>0.224186</td>\n",
       "      <td>-0.841503</td>\n",
       "      <td>0.804790</td>\n",
       "      <td>0.571172</td>\n",
       "    </tr>\n",
       "  </tbody>\n",
       "</table>\n",
       "</div>"
      ],
      "text/plain": [
       "     sepal_length  sepal_width  petal_length  petal_width\n",
       "136      0.586333     0.663375      1.079686     1.594167\n",
       "74       0.707048    -0.411538      0.364957     0.187549\n",
       "101     -0.017245    -0.841503      0.804790     0.954795\n",
       "50       1.431341     0.233410      0.584873     0.315423\n",
       "83       0.224186    -0.841503      0.804790     0.571172"
      ]
     },
     "execution_count": 23,
     "metadata": {},
     "output_type": "execute_result"
    }
   ],
   "source": [
    "X_test.head()"
   ]
  },
  {
   "cell_type": "markdown",
   "id": "7717b2b1-7725-488a-9314-46fb54e8fdd2",
   "metadata": {},
   "source": [
    "## MODEL"
   ]
  },
  {
   "cell_type": "markdown",
   "id": "5a8de17c-3dd0-4b73-a983-92fcdae3e752",
   "metadata": {},
   "source": [
    "### NN Architecture"
   ]
  },
  {
   "cell_type": "markdown",
   "id": "566dab04-4bc2-42af-b228-6dc7be8f5c91",
   "metadata": {},
   "source": [
    "1. I decided to go further by creating a simple framework for any creating MLP model network.\n",
    "2. Utilised a bias per neuron approach instead of the bias per layer as I found it easier to code and also has better flexibility\n",
    "3. Loss functions: mse and cross entropy\n",
    "4. Activation: ReLu, Sigmoid, and Linear(no activation)"
   ]
  },
  {
   "cell_type": "code",
   "execution_count": 24,
   "id": "f9517166-9410-4849-afb5-26db19c624de",
   "metadata": {},
   "outputs": [],
   "source": [
    "from typing import Tuple, List"
   ]
  },
  {
   "cell_type": "code",
   "execution_count": 25,
   "id": "7700919c-c9d1-4746-89c5-f5e31e09f84d",
   "metadata": {},
   "outputs": [],
   "source": [
    "def Metrics(metric: str,y_true, y_prob_distr_pred) -> float:\n",
    "    assert isinstance(y_true, np.ndarray), 'y_true must be type numpy'\n",
    "    isinstance(y_prob_distr_pred, np.ndarray), 'y_prob_distr_pred must be type numpy'\n",
    "    y_prob_distr_pred[0].ndim == 2, 'prob distribution of elements in y_prob_distr_pred must be 2D'\n",
    "    \n",
    "    if metric == 'accuracy':\n",
    "        encoded = np.array([np.argmax(y_prob.T[0]) for y_prob in y_prob_distr_pred])\n",
    "        correct_pred = sum(encoded == y_true)\n",
    "        return correct_pred/len(y_true)"
   ]
  },
  {
   "cell_type": "code",
   "execution_count": 26,
   "id": "7ede2d20-b73f-414a-8217-80cc22fd4111",
   "metadata": {},
   "outputs": [],
   "source": [
    "def Activation(fn: str, X, dfn: bool):\n",
    "    assert isinstance(X, np.ndarray), 'X Should be a numpy array'\n",
    "    result = None\n",
    "    if fn == 'sigmoid':\n",
    "        if dfn: #if derivative\n",
    "            result = lambda X: np.exp(-X) / ((1 + np.exp(-X)) ** 2)\n",
    "        else:\n",
    "            result = lambda X : 1 / (1 + np.exp(-X))\n",
    "        \n",
    "    elif fn == 'relu':\n",
    "        if dfn: #if derivative\n",
    "            result = lambda X : np.where(X > 0, 1, 0)\n",
    "        else:\n",
    "            result = lambda X : np.maximum(0, X) \n",
    "\n",
    "    elif fn == 'softmax':\n",
    "        if dfn: #if derivative\n",
    "            exp_X = np.exp(X)\n",
    "            a = exp_X / np.sum(exp_X)\n",
    "            result = lambda a :  a * (1 - a)\n",
    "        else:\n",
    "            exp_X = np.exp(X)\n",
    "            result = lambda X : exp_X / np.sum(exp_X)\n",
    "\n",
    "    elif fn == 'linear':\n",
    "         result = lambda X : X\n",
    "            \n",
    "    else:\n",
    "        raise ConditionNotMetError(\"Invalid activation!\")\n",
    "\n",
    "    return result(X)"
   ]
  },
  {
   "cell_type": "code",
   "execution_count": 27,
   "id": "10fc85bf-1120-4879-aa75-ce2728d5fd66",
   "metadata": {},
   "outputs": [],
   "source": [
    "def Loss_Fn(fn: str, y_true, y_pred, dfn: bool): \n",
    "    assert isinstance(y_true, np.ndarray), 'y_true Should be a numpy array'\n",
    "    assert isinstance(y_pred, np.ndarray), 'y_pred Should be a numpy array'\n",
    "    result = None\n",
    "    \n",
    "    if fn == 'mse':\n",
    "        if dfn: #if derivative\n",
    "            return -(y_true - y_pred)\n",
    "        else:\n",
    "            return 0.5 * np.square(y_true - y_pred)\n",
    "\n",
    "    elif fn == 'cross_entropy':\n",
    "        true_distr = np.array([np.array([0]) if i != y_true[0][0] else np.array([1]) \n",
    "                               for i in range(y_pred.shape[0])])\n",
    "        if dfn: #if derivative\n",
    "            return -true_distr / y_pred\n",
    "        else:\n",
    "            return -np.sum(true_distr * np.log(y_pred))\n",
    "        \n",
    "    else:\n",
    "        raise ConditionNotMetError(\"Invalid cost!\")"
   ]
  },
  {
   "cell_type": "code",
   "execution_count": 28,
   "id": "541144e4-db45-45e8-b48f-bf6a1c07ca33",
   "metadata": {},
   "outputs": [],
   "source": [
    "class MLP:\n",
    "    def __init__(self, layers: tuple, lr: float, activation: str, l_o_activation: str, cost: str, random_seed: int = 42, weight_range: Tuple[float, float] = (-0.1 , 0.1)):\n",
    "        np.random.seed(random_seed)\n",
    "        self.counter  = 0\n",
    "        min_w = weight_range[0]\n",
    "        max_w = weight_range[1]\n",
    "        self.lr = lr\n",
    "        self.activation = activation\n",
    "        self.l_o_activation = l_o_activation\n",
    "        self.cost = cost\n",
    "        self.loss_history = []\n",
    "        self.weights = [np.random.uniform(min_w, max_w, \n",
    "                                          size=(layers[i],layers[i-1]))\n",
    "                        for i in range(1,len(layers))]\n",
    "        \n",
    "        self.bias = [np.random.uniform(min_w, max_w, size=(layers[i], 1))\n",
    "                    for i in range(1,len(layers))]\n",
    "\n",
    "    def forward(self, X: np.ndarray):\n",
    "        assert isinstance(X, np.ndarray), 'Should be a numpy array'\n",
    "        assert X.ndim == 2, 'X should be 2 dimension'\n",
    "        Z = X.T.copy()\n",
    "        self.layer_history = [[None, Z]] \n",
    "        for i in range(len(self.weights)-1): #to multiply through weights in each hidden layer\n",
    "            layer_store = [] \n",
    "            W = self.weights[i]\n",
    "            \n",
    "            Z = np.dot(W, Z) + self.bias[i] #matrix multiplication + bias\n",
    "            layer_store.append(Z)\n",
    "            Z = Activation(self.activation, Z, False) #applying activation function\n",
    "            layer_store.append(Z)\n",
    "\n",
    "            self.layer_history.append(layer_store) #to store outputs in each layer later for backpropagation\n",
    "\n",
    "        # output layer\n",
    "        layer_store = []\n",
    "        W = self.weights[-1]\n",
    "        Z = np.dot(W, Z) + self.bias[-1]\n",
    "        layer_store.append(Z)\n",
    "        Z = Activation(self.l_o_activation, Z, False)\n",
    "        layer_store.append(Z)\n",
    "        self.layer_history.append(layer_store)\n",
    "        \n",
    "        return Z\n",
    "\n",
    "    def backward(self, y_true: np.ndarray):\n",
    "        assert isinstance(y_true, np.ndarray)\n",
    "        assert y_true.ndim == 2, 'y_true should be 2 dimension'\n",
    "        weights_ = self.weights.copy()\n",
    "        Z = self.layer_history[-1][0] #before activation\n",
    "        y_pred = self.layer_history[-1][1] #after activation\n",
    "\n",
    "        dC_dZ = None\n",
    "        if self.l_o_activation != 'softmax':\n",
    "            dC_dA = Loss_Fn(self.cost, y_true, y_pred, True)\n",
    "            dA_dZ = Activation(self.l_o_activation, Z, True)\n",
    "            dC_dZ = dC_dA * dA_dZ \n",
    "\n",
    "        else:\n",
    "            true_distr = np.array([np.array([0]) if i != y_true[0][0] else np.array([1]) \n",
    "                               for i in range(Z.shape[0])])\n",
    "            \n",
    "            dC_dZ = Activation(self.l_o_activation, Z, False) - true_distr\n",
    "            # print(dC_dZ, true_distr, sep ='\\n\\n')\n",
    "            \n",
    "        dZ_dW = self.layer_history[-2][1]\n",
    "        dC_dW = np.dot(dC_dZ, dZ_dW.T)\n",
    "        dC_dB = dC_dZ\n",
    "\n",
    "        self.weights[-1] -= dC_dW * self.lr #update weight at layer\n",
    "        self.bias[-1] -= dC_dB  * self.lr #update bias at layer\n",
    "\n",
    "        if len(weights_) != 1:\n",
    "            self.chain_rule(np.dot(dC_dZ.T, weights_[-1]), weights_)\n",
    "    \n",
    "    def chain_rule(self, dC_dA, weights_):\n",
    "        self.layer_history.pop()\n",
    "        weights_.pop();\n",
    "        for _ in range(len(weights_)):\n",
    "            Z = self.layer_history[-1][0]\n",
    "    \n",
    "            dA_dZ = Activation(self.activation, Z, True)\n",
    "            dZ_dW = self.layer_history[-2][1]\n",
    "    \n",
    "            dC_dZ = dC_dA.T * dA_dZ\n",
    "            dC_dW = np.dot(dC_dZ, dZ_dW.T)\n",
    "            dC_dB = dC_dZ\n",
    "    \n",
    "            self.weights[len(weights_) - 1] -= dC_dW * self.lr #update weight at layer\n",
    "            self.bias[len(weights_) - 1] -= dC_dB  * self.lr #update bias at layer\n",
    "            dC_dA = np.dot(dC_dZ.T, weights_[-1])\n",
    "\n",
    "            self.layer_history.pop()\n",
    "            weights_.pop();\n",
    "\n",
    "    def train(self, Epochs: int,X, y_true):\n",
    "        assert isinstance(X, np.ndarray), 'Should be a numpy array'\n",
    "        assert X.ndim == 2, 'X should be 2 dimension'\n",
    "        for epoch in range(Epochs):\n",
    "            loss = None\n",
    "            for i in range(X.shape[0]):\n",
    "                x = np.expand_dims(X[i], axis = 0)\n",
    "                y = np.array([[y_true[i]]])\n",
    "                pred = self.forward(x)\n",
    "                self.backward(y)\n",
    "                loss = Loss_Fn(self.cost, y, pred, False) # False -> no derivatives\n",
    "\n",
    "            self.loss_history.append(loss)\n",
    "\n",
    "    def predict(self,X):\n",
    "        assert isinstance(X, np.ndarray), 'Should be a numpy array'\n",
    "        assert X.ndim == 2, 'X should be 2 dimension'\n",
    "        predictions = []\n",
    "        \n",
    "        for i in range(X.shape[0]): #go through the samples of data\n",
    "            x = np.expand_dims(X[i], axis = 0)\n",
    "            predictions.append(self.forward(x))\n",
    "\n",
    "        return np.array(predictions)"
   ]
  },
  {
   "cell_type": "markdown",
   "id": "fa6b43be-f417-42f7-9ee8-20c757969e2f",
   "metadata": {},
   "source": [
    "### Testing NN Model"
   ]
  },
  {
   "cell_type": "markdown",
   "id": "56eeb377-e5bf-4c7d-ab27-35246b64f977",
   "metadata": {},
   "source": [
    "$$ f(x) = 2^x, x ∈ [0, ∞) $$"
   ]
  },
  {
   "cell_type": "code",
   "execution_count": 29,
   "id": "93fedd82-6b7f-45d2-93aa-bbc8f6e511ca",
   "metadata": {},
   "outputs": [],
   "source": [
    "a = np.array([\n",
    "    [2,0],\n",
    "    [2,1],\n",
    "    [2,2],\n",
    "    [2,3],\n",
    "    [2,4],\n",
    "    [2,5]\n",
    "    ]\n",
    ")"
   ]
  },
  {
   "cell_type": "code",
   "execution_count": 30,
   "id": "0524659d-d4c5-4185-b4b4-e04f90b7b710",
   "metadata": {},
   "outputs": [],
   "source": [
    "b = np.array([\n",
    "    1,\n",
    "    2,\n",
    "    4,\n",
    "    8,\n",
    "    16,\n",
    "    32]\n",
    ")"
   ]
  },
  {
   "cell_type": "code",
   "execution_count": 31,
   "id": "4722cdb2-a682-419d-945c-33367da8a0d2",
   "metadata": {
    "scrolled": true
   },
   "outputs": [],
   "source": [
    "nn = MLP((2,5,5,1), 1e-3, 'relu', 'relu', 'mse', 0, (-1,1))"
   ]
  },
  {
   "cell_type": "code",
   "execution_count": 32,
   "id": "4e76897d-cf5c-4ad6-96e5-1a6591b095a3",
   "metadata": {
    "scrolled": true
   },
   "outputs": [],
   "source": [
    "nn.train(2, a, b)"
   ]
  },
  {
   "cell_type": "code",
   "execution_count": 33,
   "id": "892ad36f-a560-4e71-a651-d29e60596794",
   "metadata": {},
   "outputs": [
    {
     "data": {
      "text/plain": [
       "array([[ 0.87853164,  2.68206577,  6.35129734, 10.26206205, 14.17282676,\n",
       "        17.97540479]])"
      ]
     },
     "execution_count": 33,
     "metadata": {},
     "output_type": "execute_result"
    }
   ],
   "source": [
    "nn.forward(np.array(a))"
   ]
  },
  {
   "cell_type": "markdown",
   "id": "6be1810c-e85c-4e5b-9596-56230cae98ca",
   "metadata": {},
   "source": [
    "### Testing Model with Iris Dataset"
   ]
  },
  {
   "cell_type": "code",
   "execution_count": 34,
   "id": "2ad81fb0-1342-4571-a109-94ce4a4ec3c2",
   "metadata": {},
   "outputs": [],
   "source": [
    "nn = MLP(\n",
    "        layers = (4,5,5,3), \n",
    "         lr = 1e-3, \n",
    "         activation = 'relu', \n",
    "         l_o_activation = 'softmax', \n",
    "         cost = 'cross_entropy', \n",
    "         random_seed = 42, \n",
    "         weight_range = (-0.1, 0.1)\n",
    "        )"
   ]
  },
  {
   "cell_type": "code",
   "execution_count": 35,
   "id": "109767ba-1b5e-40d4-b866-3aff4ac7ede0",
   "metadata": {
    "scrolled": true
   },
   "outputs": [],
   "source": [
    "train_acc = []\n",
    "test_acc = []\n",
    "for epochs in range(100, 1001, 100):\n",
    "    nn.train(epochs, X_train.values, y_train.values)\n",
    "    train_acc.append(Metrics('accuracy', y_train.values, nn.predict(X_train.values)))\n",
    "    test_acc.append(Metrics('accuracy', y_test.values, nn.predict(X_test.values)))"
   ]
  },
  {
   "cell_type": "code",
   "execution_count": 36,
   "id": "368aeedb-0343-48ce-ae17-4c623e8d1d17",
   "metadata": {
    "scrolled": true
   },
   "outputs": [],
   "source": [
    "# nn.train(1000, X_train.values, y_train.values)"
   ]
  },
  {
   "cell_type": "code",
   "execution_count": 37,
   "id": "f5969d22-23e0-4281-bb4d-6e4697b37c98",
   "metadata": {},
   "outputs": [],
   "source": [
    "train_prediction = nn.predict(X_train.values)"
   ]
  },
  {
   "cell_type": "code",
   "execution_count": 38,
   "id": "a1b3fa1f-0ca6-43cf-a785-e8292f8f4ea0",
   "metadata": {},
   "outputs": [],
   "source": [
    "test_prediction = nn.predict(X_test.values)"
   ]
  },
  {
   "cell_type": "markdown",
   "id": "3eda7ce6-eab9-442e-8f44-db19aa48130b",
   "metadata": {},
   "source": [
    "#### Train Accuracy"
   ]
  },
  {
   "cell_type": "code",
   "execution_count": 39,
   "id": "db2fcd6a-cddc-407b-83aa-ef61875f082e",
   "metadata": {},
   "outputs": [
    {
     "data": {
      "text/plain": [
       "1.0"
      ]
     },
     "execution_count": 39,
     "metadata": {},
     "output_type": "execute_result"
    }
   ],
   "source": [
    "train_accuracy = Metrics('accuracy', y_train.values, train_prediction)\n",
    "train_accuracy"
   ]
  },
  {
   "cell_type": "markdown",
   "id": "13747522-9760-43e5-8d58-fbc358e671b3",
   "metadata": {},
   "source": [
    "#### Test Accuracy"
   ]
  },
  {
   "cell_type": "code",
   "execution_count": 40,
   "id": "532a3074-9920-4ad5-8910-748ee8857af9",
   "metadata": {},
   "outputs": [
    {
     "data": {
      "text/plain": [
       "0.9333333333333333"
      ]
     },
     "execution_count": 40,
     "metadata": {},
     "output_type": "execute_result"
    }
   ],
   "source": [
    "test_accuracy = Metrics('accuracy', y_test.values, test_prediction)\n",
    "test_accuracy"
   ]
  },
  {
   "cell_type": "markdown",
   "id": "d8106dd6-5bd5-4482-9d41-1499cb19dafe",
   "metadata": {},
   "source": [
    "#### Accuracy (Entire Data)"
   ]
  },
  {
   "cell_type": "code",
   "execution_count": 41,
   "id": "da517374-2cd3-4ce2-9da3-be9a4851009d",
   "metadata": {},
   "outputs": [],
   "source": [
    "features = X.copy() #create a copy of X"
   ]
  },
  {
   "cell_type": "code",
   "execution_count": 42,
   "id": "a7334a02-37ae-42ab-8b64-7612a1f2bfd1",
   "metadata": {},
   "outputs": [],
   "source": [
    "z_score(features) #perform z-score normalisation"
   ]
  },
  {
   "cell_type": "code",
   "execution_count": 43,
   "id": "d1a2b230-b869-4907-942c-7a2ac0f4b3a1",
   "metadata": {},
   "outputs": [],
   "source": [
    "nn.train(1000, features.values, y.values)"
   ]
  },
  {
   "cell_type": "code",
   "execution_count": 44,
   "id": "583e424e-edf3-41a2-a234-b740af9bbd80",
   "metadata": {},
   "outputs": [],
   "source": [
    "pred = nn.predict(features.values)"
   ]
  },
  {
   "cell_type": "code",
   "execution_count": 45,
   "id": "55115656-f0ed-46c1-8a2f-a9e689d0b6f0",
   "metadata": {},
   "outputs": [
    {
     "data": {
      "text/plain": [
       "0.9866666666666667"
      ]
     },
     "execution_count": 45,
     "metadata": {},
     "output_type": "execute_result"
    }
   ],
   "source": [
    "Metrics('accuracy', y.values, pred)"
   ]
  },
  {
   "cell_type": "markdown",
   "id": "98ef4f7f-d1b1-40dc-8e8c-8a9399a11d1c",
   "metadata": {},
   "source": [
    "#### Accuracy vs Epoch Plot"
   ]
  },
  {
   "cell_type": "code",
   "execution_count": 46,
   "id": "e62cbba7-c1df-43d3-8a16-0c591565f6a3",
   "metadata": {},
   "outputs": [],
   "source": [
    "import matplotlib.pyplot as plt"
   ]
  },
  {
   "cell_type": "code",
   "execution_count": 47,
   "id": "6aa6e02d-df5b-4f32-9f7d-47a936f79da2",
   "metadata": {},
   "outputs": [
    {
     "data": {
      "image/png": "[encoded data removed]",
      "text/plain": [
       "<Figure size 640x480 with 1 Axes>"
      ]
     },
     "metadata": {},
     "output_type": "display_data"
    }
   ],
   "source": [
    "plt.plot(list(range(100, 1001, 100)), train_acc, label = 'Train')\n",
    "plt.plot(list(range(100, 1001, 100)), test_acc, label = 'Test')\n",
    "plt.legend()\n",
    "plt.xlabel('Epochs')\n",
    "# plt.xticks(range(100, 1001, 100))\n",
    "plt.ylabel('Accuracy')\n",
    "plt.title('Accuracy vs Epochs');"
   ]
  },
  {
   "cell_type": "markdown",
   "id": "aa3c6446-37b5-43bf-a5e5-585e9dc8fc79",
   "metadata": {},
   "source": [
    "### What makes my work different from others?"
   ]
  },
  {
   "cell_type": "markdown",
   "id": "1b54dae8-e2c1-434c-ae3b-cb3886465321",
   "metadata": {},
   "source": [
    "1. Created a simple mlp framework instead, can perform regression and classification\n",
    "2. Activation function: ReLU, Sigmoid, Softmax\n",
    "3. Loss: Cross Entropy, MSE\n",
    "4. Code organisation\n",
    "5. Reproducable results using numpy's random seed to ensure initial weights are always the same regardless of how many times its run.\n",
    "6. Reproducable accuracy\n",
    "7. Just in case: I used a 70/30 train-test split"
   ]
  }
 ],
 "metadata": {
  "kernelspec": {
   "display_name": "Python 3 (ipykernel)",
   "language": "python",
   "name": "python3"
  },
  "language_info": {
   "codemirror_mode": {
    "name": "ipython",
    "version": 3
   },
   "file_extension": ".py",
   "mimetype": "text/x-python",
   "name": "python",
   "nbconvert_exporter": "python",
   "pygments_lexer": "ipython3",
   "version": "3.12.0"
  }
 },
 "nbformat": 4,
 "nbformat_minor": 5
}
